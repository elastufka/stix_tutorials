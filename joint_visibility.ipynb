{
 "cells": [
  {
   "cell_type": "markdown",
   "metadata": {},
   "source": [
    "# Determining joint visiblity of solar coordinates\n",
    "\n",
    "between any two instruments or reference frames\n",
    "\n",
    "This tutorial demonstrates how to determine if a solar location observed by one instrument is also observed by a second instrument. For example, this can be used to determine if a flare seen by SDO/AIA is also seen by Solar Orbiter/STIX. This will be the example used in this tutorial.\n",
    "\n",
    "Required packages:\n",
    "- sunpy\n",
    "- astropy\n",
    "- os\n",
    "\n",
    "Optional packages:\n",
    "- heliopy \n",
    "- stixdcpy\n",
    "- matplotlib\n"
   ]
  },
  {
   "cell_type": "markdown",
   "metadata": {},
   "source": [
    "## Step 0: Furnish SPICE kernels\n",
    "\n",
    "This step is not needed for STIX and AIA, as trajectory information can be obtained from their databases. However, if wishing to check visibility with other instruments or planetary bodies, usinge the required SPICE kernels might be the only way to do it.\n",
    "\n",
    "SPICE kernels can be downloaded [here](https://repos.cosmos.esa.int/socci/projects/SPICE_KERNELS) for various instruments and [here](https://repos.cosmos.esa.int/socci/projects/SPICE_KERNELS/repos/solar-orbiter/browse) for Solar Orbiter. \n",
    "\n",
    "Kernels can also be obtained and furnished via an old version of [heliopy](https://github.com/heliopython/heliopy) (its replacement [astrospice](https://github.com/astrospice/astrospice) is under development). Install via: \n",
    "```bash\n",
    "pip install helopy==0.15.4\n",
    "```"
   ]
  },
  {
   "cell_type": "code",
   "execution_count": 4,
   "metadata": {},
   "outputs": [],
   "source": [
    "import heliopy.data.spice as spicedata\n",
    "import heliopy.spice as hespice"
   ]
  },
  {
   "cell_type": "markdown",
   "metadata": {},
   "source": [
    "- using local copy of kernel"
   ]
  },
  {
   "cell_type": "code",
   "execution_count": null,
   "metadata": {},
   "outputs": [],
   "source": [
    "path_kernel=\"/path/to/local/kernel/\""
   ]
  },
  {
   "cell_type": "code",
   "execution_count": null,
   "metadata": {},
   "outputs": [],
   "source": [
    "cwd=os.getcwd()\n",
    "# Change the CWD to the given path. Necessary to load correctly all kernels\n",
    "os.chdir(path_kernel)\n",
    "spice_kernel = hespice.Kernel('solo_ANC_soc-flown-mk.tm')\n",
    "#spice_kernel = hespice.Kernel('solo_ANC_soc-pred-mk.tm') #use the predicted kernel if no as-flown kernel available\n",
    "hespice.furnish(spice_kernel)\n",
    "os.chdir(cwd)"
   ]
  },
  {
   "cell_type": "markdown",
   "metadata": {},
   "source": [
    "- using heliopy"
   ]
  },
  {
   "cell_type": "code",
   "execution_count": 83,
   "metadata": {},
   "outputs": [],
   "source": [
    "spice_kernel= spicedata.get_kernel('solo')\n",
    "hespice.furnish(spice_kernel)"
   ]
  },
  {
   "cell_type": "markdown",
   "metadata": {},
   "source": [
    "## Step 1: Get observer information and reference coordinate\n",
    "\n",
    "Observer information is used for building the coordinate frame as seen by a particular spacecraft. If you already have solar maps from each instrument available, this is trivial. \n",
    "\n",
    "Without solar maps, and for the case of STIX and AIA, we use [stixdcpy](https://github.com/drhlxiao/stixdcpy) and [sunpy/drms](https://github.com/sunpy/drms) respectively. For other observers, such as STEREO or planetary bodies, please see _get_observer()_ and related functions [here](https://github.com/elastufka/solar_all_purpose/blob/main/spacecraft_utils.py) that use a properly loaded SPICE kernel.\n"
   ]
  },
  {
   "cell_type": "markdown",
   "metadata": {},
   "source": [
    "#### using solar maps\n",
    "\n",
    "warning - if your solar maps are from very different datetimes, this will still work! "
   ]
  },
  {
   "cell_type": "code",
   "execution_count": null,
   "metadata": {},
   "outputs": [],
   "source": [
    "import sunpy.map\n",
    "\n",
    "stix_map=sunpy.map.Map('sample_data/stix_fulldisk.fits')\n",
    "aia_map=sunpy.map.Map('sample_data/aia_fulldisk.fits')\n",
    "solo_refcoord=stix_map.reference_coordinate\n",
    "sdo_refcoord=aia_map.reference_coordinate"
   ]
  },
  {
   "cell_type": "markdown",
   "metadata": {},
   "source": [
    "#### without solar maps"
   ]
  },
  {
   "cell_type": "code",
   "execution_count": 26,
   "metadata": {},
   "outputs": [],
   "source": [
    "from stixdcpy import ancillary as anc\n",
    "import drms #included with sunpy\n",
    "from sunpy.coordinates.frames import HeliocentricEarthEcliptic,HeliographicStonyhurst\n",
    "from astropy import units as u\n",
    "from astropy.coordinates import SkyCoord"
   ]
  },
  {
   "cell_type": "code",
   "execution_count": 84,
   "metadata": {},
   "outputs": [],
   "source": [
    "#time period of interest\n",
    "start_utc='2022-01-01T00:00:00'\n",
    "end_utc='2022-01-01T00:01:00'"
   ]
  },
  {
   "cell_type": "markdown",
   "metadata": {},
   "source": [
    "get Solar Orbiter ephemeris"
   ]
  },
  {
   "cell_type": "code",
   "execution_count": 85,
   "metadata": {},
   "outputs": [
    {
     "name": "stderr",
     "output_type": "stream",
     "text": [
      "\n"
     ]
    },
    {
     "data": {
      "text/plain": [
       "[146042282.8139231, -30401160.44217085, 3150425.4010110497]"
      ]
     },
     "execution_count": 85,
     "metadata": {},
     "output_type": "execute_result"
    }
   ],
   "source": [
    "eph=anc.Ephemeris.from_sdc(start_utc=end_utc, end_utc=end_utc, steps=1)\n",
    "solo_hee=eph.data['orbit']['solo_hee'][0] #HEE (x,y,z) in km\n",
    "solo_hee"
   ]
  },
  {
   "cell_type": "markdown",
   "metadata": {},
   "source": [
    "transform ephemeris to sunpy Observer object and reference coordinate"
   ]
  },
  {
   "cell_type": "code",
   "execution_count": 87,
   "metadata": {},
   "outputs": [
    {
     "data": {
      "text/plain": [
       "<SkyCoord (HeliocentricEarthEcliptic: obstime=2022-01-01T00:00:00.000): (x, y, z) in km\n",
       "    (1.46042283e+08, -30401160.44217085, 3150425.40101105)>"
      ]
     },
     "execution_count": 87,
     "metadata": {},
     "output_type": "execute_result"
    }
   ],
   "source": [
    "solo_observer=SkyCoord(solo_hee[0]*u.km,solo_hee[1]*u.km,solo_hee[2]*u.km,frame=HeliocentricEarthEcliptic,representation_type='cartesian',obstime=start_utc)\n",
    "solo_observer"
   ]
  },
  {
   "cell_type": "code",
   "execution_count": 90,
   "metadata": {},
   "outputs": [
    {
     "data": {
      "text/plain": [
       "<SkyCoord (Helioprojective: obstime=2022-01-01T00:00:00.000, rsun=695700.0 km, observer=<HeliographicStonyhurst Coordinate (obstime=2022-01-01T00:00:00.000, rsun=695700.0 km): (lon, lat, radius) in (deg, deg, km)\n",
       "    (-11.53553075, -0.39308444, 1.49206247e+08)>): (Tx, Ty) in arcsec\n",
       "    (0., 0.)>"
      ]
     },
     "execution_count": 90,
     "metadata": {},
     "output_type": "execute_result"
    }
   ],
   "source": [
    "solo_refcoord=SkyCoord(0*u.arcsec,0*u.arcsec,observer=solo_observer,frame='helioprojective',obstime=start_utc) #helioprojective instead of stonyhurst\n",
    "solo_refcoord"
   ]
  },
  {
   "cell_type": "markdown",
   "metadata": {},
   "source": [
    "get SDO ephemeris from AIA image headers"
   ]
  },
  {
   "cell_type": "code",
   "execution_count": 25,
   "metadata": {},
   "outputs": [
    {
     "data": {
      "text/plain": [
       "{'HGLN_OBS': -0.014047,\n",
       " 'HGLT_OBS': -3.004365,\n",
       " 'DSUN_OBS': 147090515416.61,\n",
       " 'RSUN_OBS': 976.003384,\n",
       " 'DATE-OBS': '2021-12-31T23:59:50.13Z',\n",
       " 'RSUN_REF': 696000000.0,\n",
       " 'EXPTIME': 2.901274,\n",
       " 'INSTRUME': 'AIA_3',\n",
       " 'WAVELNTH': 1600,\n",
       " 'WAVEUNIT': 'angstrom',\n",
       " 'TELESCOP': 'SDO/AIA',\n",
       " 'LVL_NUM': 1.0,\n",
       " 'CROTA2': 0.019745}"
      ]
     },
     "execution_count": 25,
     "metadata": {},
     "output_type": "execute_result"
    }
   ],
   "source": [
    "client = drms.Client()\n",
    "kstr='HGLN_OBS,HGLT_OBS,DSUN_OBS,RSUN_OBS,DATE-OBS,RSUN_REF,EXPTIME,INSTRUME,WAVELNTH,WAVEUNIT,TELESCOP,LVL_NUM,CROTA2'\n",
    "qstr=f'aia.lev1_uv_24s[{start_utc}/1m@30s]' #if no UV data available can also try EUV: qstr=f'aia.lev1_euv_12s[{start_utc}/1m@30s]'\n",
    "df = client.query(qstr, key=kstr)\n",
    "meta=df.iloc[0].to_dict()\n",
    "meta\n",
    "    "
   ]
  },
  {
   "cell_type": "code",
   "execution_count": 132,
   "metadata": {},
   "outputs": [
    {
     "data": {
      "text/plain": [
       "<SkyCoord (HeliographicStonyhurst: obstime=2021-12-31T23:59:50.130, rsun=695700.0 km): (lon, lat, radius) in (deg, deg, m)\n",
       "    (-0.014047, -3.004365, 1.47090515e+11)>"
      ]
     },
     "execution_count": 132,
     "metadata": {},
     "output_type": "execute_result"
    }
   ],
   "source": [
    "sdo_observer=SkyCoord(meta['HGLN_OBS']*u.deg,meta['HGLT_OBS']*u.deg,meta['DSUN_OBS']*u.m,frame=HeliographicStonyhurst,obstime=meta['DATE-OBS'])\n",
    "sdo_observer"
   ]
  },
  {
   "cell_type": "code",
   "execution_count": 89,
   "metadata": {},
   "outputs": [
    {
     "data": {
      "text/plain": [
       "<SkyCoord (Helioprojective: obstime=2021-12-31T23:59:50.130, rsun=695700.0 km, observer=<HeliographicStonyhurst Coordinate (obstime=2021-12-31T23:59:50.130, rsun=695700.0 km): (lon, lat, radius) in (deg, deg, m)\n",
       "    (-0.014047, -3.004365, 1.47090515e+11)>): (Tx, Ty) in arcsec\n",
       "    (0., 0.)>"
      ]
     },
     "execution_count": 89,
     "metadata": {},
     "output_type": "execute_result"
    }
   ],
   "source": [
    "sdo_refcoord=SkyCoord(0*u.arcsec,0*u.arcsec,observer=sdo_observer,frame='helioprojective',obstime=meta['DATE-OBS']) #helioprojective instead of stonyhurst\n",
    "sdo_refcoord"
   ]
  },
  {
   "cell_type": "code",
   "execution_count": 95,
   "metadata": {},
   "outputs": [],
   "source": [
    "%matplotlib inline"
   ]
  },
  {
   "cell_type": "code",
   "execution_count": 149,
   "metadata": {},
   "outputs": [
    {
     "data": {
      "text/plain": [
       "Text(0.5, 1.0, 'Positions of SOLO and SDO at 2022-01-01T00:00:00')"
      ]
     },
     "execution_count": 149,
     "metadata": {},
     "output_type": "execute_result"
    },
    {
     "data": {
      "image/png": "[encoded data removed]",
      "text/plain": [
       "<Figure size 432x288 with 1 Axes>"
      ]
     },
     "metadata": {
      "needs_background": "light"
     },
     "output_type": "display_data"
    }
   ],
   "source": [
    "#plot the spacecraft locations to double-check\n",
    "fig,ax=plt.subplots()\n",
    "ax.plot(solo_hee[0]*u.km.to(u.AU),solo_hee[1]*u.km.to(u.AU),marker='+',markersize=10,color='b')\n",
    "ax.plot(sdo_hee.x.to(u.AU),sdo_hee.y.to(u.AU),marker='+',markersize=10,color='m')\n",
    "ax.plot(0,0,marker='o',color='orange',markersize=10) #Sun\n",
    "ax.plot(1,0,marker='o',color='green') #Earth\n",
    "ax.set_xlim([-1.1,1.1])\n",
    "ax.set_ylim([-1.1,1.1])\n",
    "ax.set_xlabel('HEE_x (AU)')\n",
    "ax.set_ylabel('HEE_y (AU)')\n",
    "ax.set_title(f'Positions of SOLO and SDO at {start_utc}')"
   ]
  },
  {
   "cell_type": "code",
   "execution_count": 106,
   "metadata": {},
   "outputs": [
    {
     "data": {
      "text/plain": [
       "<SkyCoord (HeliocentricEarthEcliptic: obstime=2021-12-31T23:59:50.130): (x, y, z) in m\n",
       "    (1.4709051e+11, -34263590.36255646, -17176508.01913204)>"
      ]
     },
     "execution_count": 106,
     "metadata": {},
     "output_type": "execute_result"
    }
   ],
   "source": [
    "sdo_hee=sdo_observer.transform_to(HeliocentricEarthEcliptic)\n",
    "sdo_hee.representation_type='cartesian'\n",
    "sdo_hee"
   ]
  },
  {
   "cell_type": "markdown",
   "metadata": {},
   "source": [
    "## Step 2: check if coordinates are visible from both instruments"
   ]
  },
  {
   "cell_type": "markdown",
   "metadata": {},
   "source": [
    "Example 1: A solar flare was seen by STIX at location (100\",500\"). Check if it is seen on-disk by AIA."
   ]
  },
  {
   "cell_type": "code",
   "execution_count": 91,
   "metadata": {},
   "outputs": [
    {
     "data": {
      "text/plain": [
       "<SkyCoord (Helioprojective: obstime=2022-01-01T00:00:00.000, rsun=695700.0 km, observer=<HeliographicStonyhurst Coordinate (obstime=2022-01-01T00:00:00.000, rsun=695700.0 km): (lon, lat, radius) in (deg, deg, km)\n",
       "    (-11.53553075, -0.39308444, 1.49206247e+08)>): (Tx, Ty) in arcsec\n",
       "    (100., 500.)>"
      ]
     },
     "execution_count": 91,
     "metadata": {},
     "output_type": "execute_result"
    }
   ],
   "source": [
    "flare_coord=SkyCoord(100*u.arcsec,500*u.arcsec,frame=solo_refcoord.frame) #with map, can also use frame=stix_map.frame\n",
    "flare_coord"
   ]
  },
  {
   "cell_type": "code",
   "execution_count": 92,
   "metadata": {},
   "outputs": [
    {
     "data": {
      "text/plain": [
       "<SkyCoord (Helioprojective: obstime=2021-12-31T23:59:50.130, rsun=695700.0 km, observer=<HeliographicStonyhurst Coordinate (obstime=2021-12-31T23:59:50.130, rsun=695700.0 km): (lon, lat, radius) in (deg, deg, m)\n",
       "    (-0.014047, -3.004365, 1.47090515e+11)>): (Tx, Ty, distance) in (arcsec, arcsec, km)\n",
       "    (-67.42117094, 544.71585244, 1.46514845e+08)>"
      ]
     },
     "execution_count": 92,
     "metadata": {},
     "output_type": "execute_result"
    }
   ],
   "source": [
    "flare_coord.transform_to(sdo_refcoord.frame) #with map, can also use frame=aia_map.frame"
   ]
  },
  {
   "cell_type": "markdown",
   "metadata": {},
   "source": [
    "Example 2: An active region was seen by AIA at location (-800\",150\"). Check if it is seen on-disk by STIX."
   ]
  },
  {
   "cell_type": "code",
   "execution_count": 93,
   "metadata": {},
   "outputs": [
    {
     "data": {
      "text/plain": [
       "<SkyCoord (Helioprojective: obstime=2021-12-31T23:59:50.130, rsun=695700.0 km, observer=<HeliographicStonyhurst Coordinate (obstime=2021-12-31T23:59:50.130, rsun=695700.0 km): (lon, lat, radius) in (deg, deg, m)\n",
       "    (-0.014047, -3.004365, 1.47090515e+11)>): (Tx, Ty) in arcsec\n",
       "    (-800., 150.)>"
      ]
     },
     "execution_count": 93,
     "metadata": {},
     "output_type": "execute_result"
    }
   ],
   "source": [
    "ar_coord=SkyCoord(-800*u.arcsec,150*u.arcsec,frame=sdo_refcoord.frame)\n",
    "ar_coord"
   ]
  },
  {
   "cell_type": "code",
   "execution_count": 94,
   "metadata": {},
   "outputs": [
    {
     "data": {
      "text/plain": [
       "<SkyCoord (Helioprojective: obstime=2022-01-01T00:00:00.000, rsun=695700.0 km, observer=<HeliographicStonyhurst Coordinate (obstime=2022-01-01T00:00:00.000, rsun=695700.0 km): (lon, lat, radius) in (deg, deg, km)\n",
       "    (-11.53553075, -0.39308444, 1.49206247e+08)>): (Tx, Ty, distance) in (arcsec, arcsec, m)\n",
       "    (-665.0225517, 124.44952793, 1.48710997e+11)>"
      ]
     },
     "execution_count": 94,
     "metadata": {},
     "output_type": "execute_result"
    }
   ],
   "source": [
    "ar_coord.transform_to(solo_refcoord.frame)"
   ]
  },
  {
   "cell_type": "code",
   "execution_count": 148,
   "metadata": {},
   "outputs": [
    {
     "data": {
      "text/latex": [
       "$961.749\\mathrm{{}^{\\prime\\prime}}$"
      ],
      "text/plain": [
       "<Angle 961.74891249 arcsec>"
      ]
     },
     "execution_count": 148,
     "metadata": {},
     "output_type": "execute_result"
    }
   ],
   "source": [
    "#compare with solar angular radius as seen by SOLO:\n",
    "import sunpy.map\n",
    "solo_rsun=sunpy.map.solar_angular_radius(solo_refcoord)\n",
    "solo_rsun"
   ]
  },
  {
   "cell_type": "markdown",
   "metadata": {},
   "source": [
    "In the dates chosen for this example, the viewpoints of Solar Orbiter and SDO are very similar. Try different dates or flare coordinates to see what happens! The _.transform_to()_ function will return NaN if the coordinate in the desired reference frame is unable to be calculated (for example, behind the disk). You can also use _sunpy.map.maputils.coordinate_is_on_solar_disk(coordinate)_ to check if the transformed coordinate is on-disk."
   ]
  },
  {
   "cell_type": "code",
   "execution_count": null,
   "metadata": {},
   "outputs": [],
   "source": []
  }
 ],
 "metadata": {
  "kernelspec": {
   "display_name": "Python 3",
   "language": "python",
   "name": "python3"
  },
  "language_info": {
   "codemirror_mode": {
    "name": "ipython",
    "version": 3
   },
   "file_extension": ".py",
   "mimetype": "text/x-python",
   "name": "python",
   "nbconvert_exporter": "python",
   "pygments_lexer": "ipython3",
   "version": "3.7.8"
  }
 },
 "nbformat": 4,
 "nbformat_minor": 4
}
